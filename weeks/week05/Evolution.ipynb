{
 "cells": [
  {
   "cell_type": "code",
   "execution_count": 12,
   "metadata": {
    "collapsed": true
   },
   "outputs": [],
   "source": [
    "#!/usr/bin/env python\n",
    "from random import choice, random"
   ]
  },
  {
   "cell_type": "code",
   "execution_count": 13,
   "metadata": {
    "collapsed": true
   },
   "outputs": [],
   "source": [
    "ALPHABET = 'abcdefghijklmnopqrstuvwxyz '"
   ]
  },
  {
   "cell_type": "code",
   "execution_count": 14,
   "metadata": {
    "collapsed": true
   },
   "outputs": [],
   "source": [
    "def initialize(parent, num):\n",
    "    \"\"\"Returns num random sequences the length of parent.\"\"\"\n",
    "    return [[choice(ALPHABET) for i in range(len(parent))] for seq in range(num)]"
   ]
  },
  {
   "cell_type": "code",
   "execution_count": 15,
   "metadata": {
    "collapsed": true
   },
   "outputs": [],
   "source": [
    "def score(seq, target):\n",
    "    \"\"\"Returns number of differences between seq and target.\"\"\"\n",
    "    return sum(map(int, [a != b for a, b in zip(seq, target)]))\n",
    "\n"
   ]
  },
  {
   "cell_type": "code",
   "execution_count": 16,
   "metadata": {
    "collapsed": true
   },
   "outputs": [],
   "source": [
    "def select(population, scores):\n",
    "    \"\"\"Returns best sequence and score from population.\"\"\"\n",
    "    scored = zip(scores, population)\n",
    "    scored.sort()\n",
    "    return scored[0]\n",
    "\n"
   ]
  },
  {
   "cell_type": "code",
   "execution_count": 17,
   "metadata": {
    "collapsed": true
   },
   "outputs": [],
   "source": [
    "def breed(parent, num, mutation_rate):\n",
    "    \"\"\"Returns num copies of parent with mutation_rate changes per letter.\"\"\"\n",
    "    result = []\n",
    "    length = len(parent)\n",
    "    for seq in range(num):\n",
    "        curr = parent[:]\n",
    "        for pos in range(length):\n",
    "            if random() <= mutation_rate: curr[pos] = choice(ALPHABET)\n",
    "        result.append(curr)\n",
    "    return result\n",
    "\n"
   ]
  },
  {
   "cell_type": "code",
   "execution_count": 18,
   "metadata": {
    "collapsed": false
   },
   "outputs": [
    {
     "name": "stdout",
     "output_type": "stream",
     "text": [
      "0 \t52 \tzzlipjwiim lozgvosvimxpmwuykzv epdhthrinsmflnlkgys oycqdheplium\n",
      "1 \t50 \tzzlipjwiim lozgvosvimxpmwueksv epdhthrinsmflnlkgys oycqdheplium\n",
      "2 \t48 \tnzlipjwiim lozgvosvimxpm ueksv epdhthrinsmflnlkgys oycqdheplium\n",
      "3 \t46 \tnzlipjw im lozgvos imxpm ueksv epdhthrinsmflnlkgys oycqdheplium\n",
      "4 \t45 \tnelipjw im lozgvos imxpm ueksv epdhthrinsmflnlkgys oy qdheplium\n",
      "5 \t43 \tnelipjw im lozlvos imxpm ueksv epdhthrinsmfl lkgys oy qdheplium\n",
      "6 \t41 \tnelipjw im lkzlvos imxpm ueksv epdhthrinsmfl ligys oy qdoeplium\n",
      "7 \t39 \tnelipjw im lkzlvos imxps ueksv epdhthrinsmfl ligys oy qdolplium\n",
      "8 \t38 \tnelhpjw im lkzlvos imxps ueksv epdhthrinsmfl ligys oy qdolpdium\n",
      "9 \t36 \tnelhpjw im lkzlvos imxps ueksv epdethrinsmfl lighs oy qdolpdium\n",
      "10 \t35 \tn lhpjw im bkzlvos imxps ueksv epdethrinsmfl lighs oy qdolpdium\n",
      "11 \t34 \tn ghpjw im bkzlvos imxps ueksv epdethrinsmfl lighs of qdolpdium\n",
      "12 \t32 \tn thpjw im bkzlvos imxps uensv epdethrinsmfl lighs of qdolpdium\n",
      "13 \t31 \tn thbjw im bkzlvos imxps uensv epdethrinsmfl lighs of qdoludium\n",
      "14 \t30 \tn thbjg im bkzlvos imxps uensv epdethfinsmfl lighs of qdoludium\n",
      "15 \t28 \tn thbjg im bkzlvos imxps uensv epcethfinstgl lighs of qdoludium\n",
      "16 \t26 \tn thbjg im bkzlvos imxps uensv excethfinstge lighs of qdoludium\n",
      "17 \t25 \tn thbag im bkzlvos imxps uensv excethfinsthe lighs of qdoludium\n",
      "18 \t23 \tn thbag im bkzlvoy imxes uensv excethfinsthe lighs of qdoludium\n",
      "19 \t21 \tn thiag im bkzlvoy imxes uensv excethfinsthe lighs of edoludium\n",
      "20 \t20 \tn thiag il bkolvoy imxes uensv excethfinsthe lighs of edoludium\n",
      "21 \t19 \tn thiag il bcolvoy imxes uensv excephfinsthe lighs of edoludium\n",
      "22 \t18 \tn thiag ic bcolvoy imxes uensv excephfinsthe light of edoludism\n",
      "23 \t17 \tn thiag ic bcolooy imxes aensv excephfinsthe light of edoludism\n",
      "24 \t16 \tn thiag ic bcolocy imxes aensv excephfinsthe light of edolutism\n",
      "25 \t15 \tn thiag ic bcolocy imkes aensv excephfinsthe light of edolutism\n",
      "26 \t14 \tn thiag ic bcolocy iakes aensv excephfinsthe light of edolutism\n",
      "27 \t13 \tn thiag ic bcolocy iakes aense excephfinsthe light of edolutism\n",
      "28 \t12 \tn thiag ic bcolocy iakes aense exceph insthe light of edolutism\n",
      "29 \t11 \tn thiag ic bcolocy iakes aense exceph in the light of edolutism\n",
      "30 \t10 \tn thiag ic bcolocy iakes aense exceph in the light of edolutiom\n",
      "31 \t9 \tn thiag ic bcolocy iakes aense exceph in the light of edolution\n",
      "32 \t8 \tn thiag ic bcolocy iakes aense exceph in the light of evolution\n",
      "33 \t7 \tn thiag ic bcolocy iakes aense except in the light of evolution\n",
      "34 \t6 \tn thiag ic bcolocy iakes sense except in the light of evolution\n",
      "35 \t5 \tn thiag ic bcolocy makes sense except in the light of evolution\n",
      "36 \t4 \tn thiag ic bcology makes sense except in the light of evolution\n",
      "37 \t3 \tn thiag in bcology makes sense except in the light of evolution\n",
      "38 \t2 \tn thiag in biology makes sense except in the light of evolution\n",
      "39 \t1 \tn thing in biology makes sense except in the light of evolution\n",
      "40 \t0 \tnothing in biology makes sense except in the light of evolution\n"
     ]
    }
   ],
   "source": [
    "def evolve(target, num=10000, mutation_rate=0.01, generation=0):\n",
    "    \"\"\"Evolves random sequences towards seed, using ALPHABET.\"\"\"\n",
    "    population = initialize(target, num)\n",
    "    while 1:\n",
    "        scores = [score(seq, target) for seq in population]\n",
    "        best_score, best_seq = select(population, scores)\n",
    "        print generation, '\\t', best_score, '\\t', ''.join(best_seq)\n",
    "        if best_score == 0: break\n",
    "        population = breed(best_seq, num, mutation_rate)\n",
    "        generation += 1\n",
    "\n",
    "evolve('nothing in biology makes sense except in the light of evolution')"
   ]
  },
  {
   "cell_type": "code",
   "execution_count": null,
   "metadata": {
    "collapsed": true
   },
   "outputs": [],
   "source": []
  }
 ],
 "metadata": {
  "kernelspec": {
   "display_name": "Python 2",
   "language": "python",
   "name": "python2"
  },
  "language_info": {
   "codemirror_mode": {
    "name": "ipython",
    "version": 2
   },
   "file_extension": ".py",
   "mimetype": "text/x-python",
   "name": "python",
   "nbconvert_exporter": "python",
   "pygments_lexer": "ipython2",
   "version": "2.7.11"
  }
 },
 "nbformat": 4,
 "nbformat_minor": 0
}
